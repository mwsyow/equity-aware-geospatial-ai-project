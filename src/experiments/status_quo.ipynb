{
 "cells": [
  {
   "cell_type": "code",
   "execution_count": 1,
   "id": "d79f7460",
   "metadata": {},
   "outputs": [],
   "source": [
    "import sys\n",
    "import os\n",
    "sys.path.append(os.path.abspath(os.path.join(os.getcwd(), '..')))\n",
    "\n",
    "import geopandas as gpd\n",
    "import pandas as pd\n",
    "from shapely.geometry import Point\n",
    "\n",
    "\n",
    "from index_travel_accessibility.travel_time_and_centroid import (\n",
    "    get_hospital_df,\n",
    "    \n",
    ")"
   ]
  },
  {
   "cell_type": "code",
   "execution_count": 2,
   "id": "25b3385e",
   "metadata": {},
   "outputs": [],
   "source": [
    "# Modifying the existing hospitals DataFrame to Prediction DataFrame format\n",
    "existing_hospitals = get_hospital_df()\n",
    "\n",
    "existing_hospitals.rename(columns={\n",
    "    'MaxBeds': 'bed_allocation',\n",
    "    'SiteID': 'node'\n",
    "}, inplace=True)"
   ]
  },
  {
   "cell_type": "code",
   "execution_count": 3,
   "id": "b076aea0",
   "metadata": {},
   "outputs": [],
   "source": [
    "# Adding Geometry column to existing_hospitals\n",
    "existing_hospitals['Lat'] = existing_hospitals['Lat'].round(6)\n",
    "existing_hospitals['Lon'] = existing_hospitals['Lon'].round(6)\n",
    "existing_hospitals['geometry'] = existing_hospitals.apply(lambda row: Point(row['Lon'], row['Lat']), axis=1)\n"
   ]
  },
  {
   "cell_type": "code",
   "execution_count": 4,
   "id": "c54ddc9d",
   "metadata": {},
   "outputs": [],
   "source": [
    "# Getting district codes from the existing hospitals\n",
    "\n",
    "# Load Saarland NUTS level 3 shapefile\n",
    "nuts = gpd.read_file('./../index_travel_accessibility/data/raw/NUTS_RG_01M_2021_4326_LEVL_3.shp')\n",
    "nuts = nuts.to_crs('EPSG:4326')\n",
    "\n",
    "\n",
    "existing_hospitals = gpd.GeoDataFrame(existing_hospitals, geometry='geometry', crs='EPSG:4326')\n"
   ]
  },
  {
   "cell_type": "code",
   "execution_count": 5,
   "id": "f1da3931",
   "metadata": {},
   "outputs": [],
   "source": [
    "# Spatial join hospitals with NUTS polygons (only needed columns)\n",
    "existing_hospitals = gpd.sjoin(\n",
    "    existing_hospitals,\n",
    "    nuts[['geometry', 'NUTS_NAME']],\n",
    "    how='left',\n",
    "    predicate='within'\n",
    ")\n"
   ]
  },
  {
   "cell_type": "code",
   "execution_count": 6,
   "id": "08df4535",
   "metadata": {},
   "outputs": [],
   "source": [
    "# Map NUTS_NAME to your official Saarland district codes\n",
    "name_to_code = {\n",
    "    \"Regionalverband Saarbrücken\": \"10041\",\n",
    "    \"Merzig-Wadern\": \"10042\",\n",
    "    \"Neunkirchen\": \"10043\",\n",
    "    \"Saarlouis\": \"10044\",\n",
    "    \"Saarpfalz-Kreis\": \"10045\",\n",
    "    \"St. Wendel\": \"10046\"\n",
    "}\n",
    "\n",
    "# Assign district_code based on district_name\n",
    "existing_hospitals['district_code'] = existing_hospitals['NUTS_NAME'].map(name_to_code)\n",
    "\n",
    "# Rename NUTS_NAME to district_name\n",
    "existing_hospitals.rename(columns={'NUTS_NAME': 'district_name'}, inplace=True)"
   ]
  },
  {
   "cell_type": "code",
   "execution_count": 7,
   "id": "3484c7c9",
   "metadata": {},
   "outputs": [],
   "source": [
    "# Select and reorder columns as needed\n",
    "existing_hospitals = existing_hospitals[['geometry', 'district_code', 'node', 'bed_allocation', 'Lat', 'Lon']]\n",
    "\n",
    "existing_hospitals['type'] = 'existing'"
   ]
  },
  {
   "cell_type": "code",
   "execution_count": 8,
   "id": "fbd05335",
   "metadata": {},
   "outputs": [],
   "source": [
    "existing_hospitals.to_excel(\"results/status_quo.xlsx\", index=False)"
   ]
  },
  {
   "cell_type": "code",
   "execution_count": 9,
   "id": "1cd10cbd",
   "metadata": {},
   "outputs": [
    {
     "name": "stdout",
     "output_type": "stream",
     "text": [
      "✅ Map saved with existing and predicted hospitals!\n"
     ]
    }
   ],
   "source": [
    "from index_travel_accessibility.travel_time_and_centroid import (\n",
    "    map_predicted_and_existing_hospitals,\n",
    ")\n",
    "\n",
    "map_predicted_and_existing_hospitals(\n",
    "    'results/maps/status_quo.html', \n",
    "    existing_hospitals\n",
    ")"
   ]
  }
 ],
 "metadata": {
  "kernelspec": {
   "display_name": "Python 3",
   "language": "python",
   "name": "python3"
  },
  "language_info": {
   "codemirror_mode": {
    "name": "ipython",
    "version": 3
   },
   "file_extension": ".py",
   "mimetype": "text/x-python",
   "name": "python",
   "nbconvert_exporter": "python",
   "pygments_lexer": "ipython3",
   "version": "3.13.4"
  }
 },
 "nbformat": 4,
 "nbformat_minor": 5
}
