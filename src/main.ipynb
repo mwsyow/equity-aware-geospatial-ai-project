{
 "cells": [
  {
   "cell_type": "code",
   "execution_count": 1,
   "id": "d812f567",
   "metadata": {},
   "outputs": [],
   "source": [
    "%load_ext autoreload\n",
    "%autoreload 2\n",
    "%aimport - pulp\n",
    "%aimport - pulp.pulp\n",
    "\n",
    "# Third-party imports\n",
    "import geopandas as gpd\n",
    "import pandas as pd\n",
    "from shapely.geometry import Point\n",
    "\n",
    "from index_travel_accessibility.travel_time_and_centroid import (\n",
    "    map_predicted_and_existing_hospitals,\n",
    ")\n",
    "\n",
    "# Local imports\n",
    "from ai_planner.planner import (\n",
    "    Planner,\n",
    "    CRS\n",
    ")\n",
    "\n",
    "from index_travel_accessibility.travel_time_and_centroid import (\n",
    "    get_hospital_df,\n",
    ")\n",
    "from main import (\n",
    "    Index,\n",
    "    assemble_indexes,\n",
    "    centroid,\n",
    "    current_hospital_demand,\n",
    "    equity_index,\n",
    ")\n"
   ]
  },
  {
   "cell_type": "markdown",
   "id": "49d395ff",
   "metadata": {},
   "source": [
    "### Create Equity Index"
   ]
  },
  {
   "cell_type": "code",
   "execution_count": 2,
   "id": "8244039c",
   "metadata": {},
   "outputs": [
    {
     "name": "stderr",
     "output_type": "stream",
     "text": [
      "/home/mws/miniconda3/envs/data_science/lib/python3.13/site-packages/statsmodels/tsa/base/tsa_model.py:473: ValueWarning: An unsupported index was provided. As a result, forecasts cannot be generated. To use the model for forecasting, use one of the supported classes of index.\n",
      "  self._init_dates(dates, freq)\n",
      "/home/mws/miniconda3/envs/data_science/lib/python3.13/site-packages/statsmodels/tsa/base/tsa_model.py:473: ValueWarning: An unsupported index was provided. As a result, forecasts cannot be generated. To use the model for forecasting, use one of the supported classes of index.\n",
      "  self._init_dates(dates, freq)\n",
      "/home/mws/miniconda3/envs/data_science/lib/python3.13/site-packages/statsmodels/tsa/base/tsa_model.py:473: ValueWarning: An unsupported index was provided. As a result, forecasts cannot be generated. To use the model for forecasting, use one of the supported classes of index.\n",
      "  self._init_dates(dates, freq)\n",
      "/home/mws/miniconda3/envs/data_science/lib/python3.13/site-packages/statsmodels/base/model.py:607: ConvergenceWarning: Maximum Likelihood optimization failed to converge. Check mle_retvals\n",
      "  warnings.warn(\"Maximum Likelihood optimization failed to \"\n",
      "/home/mws/miniconda3/envs/data_science/lib/python3.13/site-packages/statsmodels/tsa/base/tsa_model.py:837: ValueWarning: No supported index is available. Prediction results will be given with an integer index beginning at `start`.\n",
      "  return get_prediction_index(\n",
      "/home/mws/miniconda3/envs/data_science/lib/python3.13/site-packages/statsmodels/tsa/base/tsa_model.py:837: FutureWarning: No supported index is available. In the next version, calling this method in a model without a supported index will result in an exception.\n",
      "  return get_prediction_index(\n"
     ]
    },
    {
     "name": "stdout",
     "output_type": "stream",
     "text": [
      "ARIMA(3,0,0) AIC=-135.65\n",
      "Current best order (3,0,0)\n",
      "ARIMA(1,1,0) AIC=429.95\n",
      "Current best order (1,1,0)\n",
      "ARIMA(1,1,0) AIC=432.49\n",
      "Current best order (1,1,0)\n",
      "ARIMA(1,1,0) AIC=452.99\n",
      "Current best order (1,1,0)\n"
     ]
    },
    {
     "name": "stderr",
     "output_type": "stream",
     "text": [
      "/home/mws/uni/Data Science/equity-aware-geospatial-ai-project/src/index_demand_forecast/demand_forecast.py:72: SettingWithCopyWarning: \n",
      "A value is trying to be set on a copy of a slice from a DataFrame\n",
      "\n",
      "See the caveats in the documentation: https://pandas.pydata.org/pandas-docs/stable/user_guide/indexing.html#returning-a-view-versus-a-copy\n",
      "  col.iloc[0] = DISTRICT_CODE\n",
      "/home/mws/uni/Data Science/equity-aware-geospatial-ai-project/src/index_demand_forecast/demand_forecast.py:73: SettingWithCopyWarning: \n",
      "A value is trying to be set on a copy of a slice from a DataFrame\n",
      "\n",
      "See the caveats in the documentation: https://pandas.pydata.org/pandas-docs/stable/user_guide/indexing.html#returning-a-view-versus-a-copy\n",
      "  col.iloc[1:] = col.iloc[1:].map(lambda x: int(x.split('/')[0]))\n",
      "/home/mws/miniconda3/envs/data_science/lib/python3.13/site-packages/statsmodels/tsa/base/tsa_model.py:473: ValueWarning: An unsupported index was provided. As a result, forecasts cannot be generated. To use the model for forecasting, use one of the supported classes of index.\n",
      "  self._init_dates(dates, freq)\n",
      "/home/mws/miniconda3/envs/data_science/lib/python3.13/site-packages/statsmodels/tsa/base/tsa_model.py:473: ValueWarning: An unsupported index was provided. As a result, forecasts cannot be generated. To use the model for forecasting, use one of the supported classes of index.\n",
      "  self._init_dates(dates, freq)\n",
      "/home/mws/miniconda3/envs/data_science/lib/python3.13/site-packages/statsmodels/tsa/base/tsa_model.py:473: ValueWarning: An unsupported index was provided. As a result, forecasts cannot be generated. To use the model for forecasting, use one of the supported classes of index.\n",
      "  self._init_dates(dates, freq)\n",
      "/home/mws/miniconda3/envs/data_science/lib/python3.13/site-packages/statsmodels/tsa/statespace/sarimax.py:966: UserWarning: Non-stationary starting autoregressive parameters found. Using zeros as starting parameters.\n",
      "  warn('Non-stationary starting autoregressive parameters'\n",
      "/home/mws/miniconda3/envs/data_science/lib/python3.13/site-packages/statsmodels/tsa/base/tsa_model.py:837: ValueWarning: No supported index is available. Prediction results will be given with an integer index beginning at `start`.\n",
      "  return get_prediction_index(\n",
      "/home/mws/miniconda3/envs/data_science/lib/python3.13/site-packages/statsmodels/tsa/base/tsa_model.py:837: FutureWarning: No supported index is available. In the next version, calling this method in a model without a supported index will result in an exception.\n",
      "  return get_prediction_index(\n",
      "/home/mws/miniconda3/envs/data_science/lib/python3.13/site-packages/statsmodels/tsa/base/tsa_model.py:473: ValueWarning: An unsupported index was provided. As a result, forecasts cannot be generated. To use the model for forecasting, use one of the supported classes of index.\n",
      "  self._init_dates(dates, freq)\n",
      "/home/mws/miniconda3/envs/data_science/lib/python3.13/site-packages/statsmodels/tsa/base/tsa_model.py:473: ValueWarning: An unsupported index was provided. As a result, forecasts cannot be generated. To use the model for forecasting, use one of the supported classes of index.\n",
      "  self._init_dates(dates, freq)\n",
      "/home/mws/miniconda3/envs/data_science/lib/python3.13/site-packages/statsmodels/tsa/base/tsa_model.py:473: ValueWarning: An unsupported index was provided. As a result, forecasts cannot be generated. To use the model for forecasting, use one of the supported classes of index.\n",
      "  self._init_dates(dates, freq)\n",
      "/home/mws/miniconda3/envs/data_science/lib/python3.13/site-packages/statsmodels/tsa/statespace/sarimax.py:966: UserWarning: Non-stationary starting autoregressive parameters found. Using zeros as starting parameters.\n",
      "  warn('Non-stationary starting autoregressive parameters'\n",
      "/home/mws/miniconda3/envs/data_science/lib/python3.13/site-packages/statsmodels/tsa/base/tsa_model.py:837: ValueWarning: No supported index is available. Prediction results will be given with an integer index beginning at `start`.\n",
      "  return get_prediction_index(\n",
      "/home/mws/miniconda3/envs/data_science/lib/python3.13/site-packages/statsmodels/tsa/base/tsa_model.py:837: FutureWarning: No supported index is available. In the next version, calling this method in a model without a supported index will result in an exception.\n",
      "  return get_prediction_index(\n",
      "/home/mws/miniconda3/envs/data_science/lib/python3.13/site-packages/statsmodels/tsa/base/tsa_model.py:473: ValueWarning: An unsupported index was provided. As a result, forecasts cannot be generated. To use the model for forecasting, use one of the supported classes of index.\n",
      "  self._init_dates(dates, freq)\n",
      "/home/mws/miniconda3/envs/data_science/lib/python3.13/site-packages/statsmodels/tsa/base/tsa_model.py:473: ValueWarning: An unsupported index was provided. As a result, forecasts cannot be generated. To use the model for forecasting, use one of the supported classes of index.\n",
      "  self._init_dates(dates, freq)\n",
      "/home/mws/miniconda3/envs/data_science/lib/python3.13/site-packages/statsmodels/tsa/base/tsa_model.py:473: ValueWarning: An unsupported index was provided. As a result, forecasts cannot be generated. To use the model for forecasting, use one of the supported classes of index.\n",
      "  self._init_dates(dates, freq)\n",
      "/home/mws/miniconda3/envs/data_science/lib/python3.13/site-packages/statsmodels/tsa/statespace/sarimax.py:966: UserWarning: Non-stationary starting autoregressive parameters found. Using zeros as starting parameters.\n",
      "  warn('Non-stationary starting autoregressive parameters'\n",
      "/home/mws/miniconda3/envs/data_science/lib/python3.13/site-packages/statsmodels/tsa/base/tsa_model.py:837: ValueWarning: No supported index is available. Prediction results will be given with an integer index beginning at `start`.\n",
      "  return get_prediction_index(\n",
      "/home/mws/miniconda3/envs/data_science/lib/python3.13/site-packages/statsmodels/tsa/base/tsa_model.py:837: FutureWarning: No supported index is available. In the next version, calling this method in a model without a supported index will result in an exception.\n",
      "  return get_prediction_index(\n",
      "/home/mws/miniconda3/envs/data_science/lib/python3.13/site-packages/statsmodels/tsa/base/tsa_model.py:473: ValueWarning: An unsupported index was provided. As a result, forecasts cannot be generated. To use the model for forecasting, use one of the supported classes of index.\n",
      "  self._init_dates(dates, freq)\n",
      "/home/mws/miniconda3/envs/data_science/lib/python3.13/site-packages/statsmodels/tsa/base/tsa_model.py:473: ValueWarning: An unsupported index was provided. As a result, forecasts cannot be generated. To use the model for forecasting, use one of the supported classes of index.\n",
      "  self._init_dates(dates, freq)\n",
      "/home/mws/miniconda3/envs/data_science/lib/python3.13/site-packages/statsmodels/tsa/base/tsa_model.py:473: ValueWarning: An unsupported index was provided. As a result, forecasts cannot be generated. To use the model for forecasting, use one of the supported classes of index.\n",
      "  self._init_dates(dates, freq)\n",
      "/home/mws/miniconda3/envs/data_science/lib/python3.13/site-packages/statsmodels/tsa/statespace/sarimax.py:966: UserWarning: Non-stationary starting autoregressive parameters found. Using zeros as starting parameters.\n",
      "  warn('Non-stationary starting autoregressive parameters'\n",
      "/home/mws/miniconda3/envs/data_science/lib/python3.13/site-packages/statsmodels/tsa/base/tsa_model.py:837: ValueWarning: No supported index is available. Prediction results will be given with an integer index beginning at `start`.\n",
      "  return get_prediction_index(\n",
      "/home/mws/miniconda3/envs/data_science/lib/python3.13/site-packages/statsmodels/tsa/base/tsa_model.py:837: FutureWarning: No supported index is available. In the next version, calling this method in a model without a supported index will result in an exception.\n",
      "  return get_prediction_index(\n",
      "/home/mws/miniconda3/envs/data_science/lib/python3.13/site-packages/statsmodels/tsa/base/tsa_model.py:473: ValueWarning: An unsupported index was provided. As a result, forecasts cannot be generated. To use the model for forecasting, use one of the supported classes of index.\n",
      "  self._init_dates(dates, freq)\n",
      "/home/mws/miniconda3/envs/data_science/lib/python3.13/site-packages/statsmodels/tsa/base/tsa_model.py:473: ValueWarning: An unsupported index was provided. As a result, forecasts cannot be generated. To use the model for forecasting, use one of the supported classes of index.\n",
      "  self._init_dates(dates, freq)\n",
      "/home/mws/miniconda3/envs/data_science/lib/python3.13/site-packages/statsmodels/tsa/base/tsa_model.py:473: ValueWarning: An unsupported index was provided. As a result, forecasts cannot be generated. To use the model for forecasting, use one of the supported classes of index.\n",
      "  self._init_dates(dates, freq)\n",
      "/home/mws/miniconda3/envs/data_science/lib/python3.13/site-packages/statsmodels/tsa/statespace/sarimax.py:966: UserWarning: Non-stationary starting autoregressive parameters found. Using zeros as starting parameters.\n",
      "  warn('Non-stationary starting autoregressive parameters'\n",
      "/home/mws/miniconda3/envs/data_science/lib/python3.13/site-packages/statsmodels/tsa/base/tsa_model.py:837: ValueWarning: No supported index is available. Prediction results will be given with an integer index beginning at `start`.\n",
      "  return get_prediction_index(\n",
      "/home/mws/miniconda3/envs/data_science/lib/python3.13/site-packages/statsmodels/tsa/base/tsa_model.py:837: FutureWarning: No supported index is available. In the next version, calling this method in a model without a supported index will result in an exception.\n",
      "  return get_prediction_index(\n",
      "/home/mws/miniconda3/envs/data_science/lib/python3.13/site-packages/statsmodels/tsa/base/tsa_model.py:473: ValueWarning: An unsupported index was provided. As a result, forecasts cannot be generated. To use the model for forecasting, use one of the supported classes of index.\n",
      "  self._init_dates(dates, freq)\n",
      "/home/mws/miniconda3/envs/data_science/lib/python3.13/site-packages/statsmodels/tsa/base/tsa_model.py:473: ValueWarning: An unsupported index was provided. As a result, forecasts cannot be generated. To use the model for forecasting, use one of the supported classes of index.\n",
      "  self._init_dates(dates, freq)\n",
      "/home/mws/miniconda3/envs/data_science/lib/python3.13/site-packages/statsmodels/tsa/base/tsa_model.py:473: ValueWarning: An unsupported index was provided. As a result, forecasts cannot be generated. To use the model for forecasting, use one of the supported classes of index.\n",
      "  self._init_dates(dates, freq)\n",
      "/home/mws/miniconda3/envs/data_science/lib/python3.13/site-packages/statsmodels/tsa/statespace/sarimax.py:966: UserWarning: Non-stationary starting autoregressive parameters found. Using zeros as starting parameters.\n",
      "  warn('Non-stationary starting autoregressive parameters'\n"
     ]
    },
    {
     "name": "stdout",
     "output_type": "stream",
     "text": [
      "ARIMA(1,1,0) AIC=439.17\n",
      "Current best order (1,1,0)\n",
      "ARIMA(1,1,0) AIC=419.81\n",
      "Current best order (1,1,0)\n",
      "ARIMA(1,1,0) AIC=467.72\n",
      "Current best order (1,1,0)\n",
      "[GISD] Wrote 6 Saarland districts to /home/mws/uni/Data Science/equity-aware-geospatial-ai-project/src/index_gisd/data/processed/gisd_norm_saarland.csv\n"
     ]
    },
    {
     "name": "stderr",
     "output_type": "stream",
     "text": [
      "/home/mws/miniconda3/envs/data_science/lib/python3.13/site-packages/statsmodels/tsa/base/tsa_model.py:837: ValueWarning: No supported index is available. Prediction results will be given with an integer index beginning at `start`.\n",
      "  return get_prediction_index(\n",
      "/home/mws/miniconda3/envs/data_science/lib/python3.13/site-packages/statsmodels/tsa/base/tsa_model.py:837: FutureWarning: No supported index is available. In the next version, calling this method in a model without a supported index will result in an exception.\n",
      "  return get_prediction_index(\n",
      "/home/mws/miniconda3/envs/data_science/lib/python3.13/site-packages/openpyxl/worksheet/_reader.py:329: UserWarning: Data Validation extension is not supported and will be removed\n",
      "  warn(msg)\n",
      "/home/mws/miniconda3/envs/data_science/lib/python3.13/site-packages/openpyxl/worksheet/_reader.py:329: UserWarning: Data Validation extension is not supported and will be removed\n",
      "  warn(msg)\n"
     ]
    },
    {
     "name": "stdout",
     "output_type": "stream",
     "text": [
      "********************************************************************************\n",
      "Estimated time to run the pipeline ---->  2-3 mins\n",
      "********************************************************************************\n",
      "✅ Saved Saarland Hospital Dataset\n",
      "********************************************************************************\n",
      "✅ Saved Hospital Coordinates Dataset\n",
      "********************************************************************************\n",
      "✅ Saved 5 evenly spread sample points per district\n",
      "********************************************************************************\n",
      "✅ Found nearest hospitals to all sample points.\n",
      "********************************************************************************\n",
      "✅ Generated Travel times from sample points to the nearest hospitals\n",
      "********************************************************************************\n",
      "✅ Calculated MEAN, MEDIAN and 95th PERCENTILE of the Travel time for EACH district\n",
      "********************************************************************************\n",
      "✅ Map saved with Saarland district borders and Hospitals!\n",
      "********************************************************************************\n",
      "✅ Map saved with sample points per district in Saarland\n",
      "********************************************************************************\n",
      "✅ Map saved with hospitals and sample points per district in Saarland\n",
      "********************************************************************************\n",
      "✅ Map saved connecting sample points to nearest hospitals\n",
      "********************************************************************************\n",
      "✅ Pipeline Run Successful! \n",
      "********************************************************************************\n",
      "TAI = {'10042': 0.7682283586720448, '10043': 0.5442134657151719, '10041': 0.0, '10044': 0.7071051815079117, '10045': 1.0, '10046': 0.9959664908470369}\n"
     ]
    }
   ],
   "source": [
    "index_df = assemble_indexes()\n",
    "# Set the weights for the indexes\n",
    "weight = {\n",
    "    Index.FORECAST_DEMAND: 0.25,\n",
    "    Index.ELDERLY_SHARE: 0.25,\n",
    "    Index.GISD: 0.25,\n",
    "    Index.HOSPITAL_CAPACITY: 0.25,\n",
    "    Index.TRAVEL_TIME: 0.25,\n",
    "    Index.ACCESSIBILITY: 0.25,\n",
    "}\n",
    "equity_df = equity_index(index_df, weight)"
   ]
  },
  {
   "cell_type": "markdown",
   "id": "b98d3199",
   "metadata": {},
   "source": [
    "### Create Centroids Dataframe"
   ]
  },
  {
   "cell_type": "markdown",
   "id": "2d596fbb",
   "metadata": {},
   "source": [
    "#### Create 1 Centroid per Dataframe"
   ]
  },
  {
   "cell_type": "code",
   "execution_count": 8,
   "id": "be6640e0",
   "metadata": {},
   "outputs": [
    {
     "name": "stderr",
     "output_type": "stream",
     "text": [
      "/home/mws/uni/Data Science/equity-aware-geospatial-ai-project/src/index_demand_forecast/demand_forecast.py:72: SettingWithCopyWarning: \n",
      "A value is trying to be set on a copy of a slice from a DataFrame\n",
      "\n",
      "See the caveats in the documentation: https://pandas.pydata.org/pandas-docs/stable/user_guide/indexing.html#returning-a-view-versus-a-copy\n",
      "  col.iloc[0] = DISTRICT_CODE\n",
      "/home/mws/uni/Data Science/equity-aware-geospatial-ai-project/src/index_demand_forecast/demand_forecast.py:73: SettingWithCopyWarning: \n",
      "A value is trying to be set on a copy of a slice from a DataFrame\n",
      "\n",
      "See the caveats in the documentation: https://pandas.pydata.org/pandas-docs/stable/user_guide/indexing.html#returning-a-view-versus-a-copy\n",
      "  col.iloc[1:] = col.iloc[1:].map(lambda x: int(x.split('/')[0]))\n",
      "/home/mws/uni/Data Science/equity-aware-geospatial-ai-project/src/index_travel_accessibility/travel_time_and_centroid.py:40: UserWarning: Geometry is in a geographic CRS. Results from 'centroid' are likely incorrect. Use 'GeoSeries.to_crs()' to re-project geometries to a projected CRS before this operation.\n",
      "\n",
      "  nuts_saarland[\"centroid\"] = nuts_saarland.geometry.centroid\n"
     ]
    }
   ],
   "source": [
    "\n",
    "#STEP1: Load and Prepare District Data (Centroids)\n",
    "curr_hospital_demand = current_hospital_demand()\n",
    "idx = curr_hospital_demand.index\n",
    "\n",
    "# Create the districts dataframe without MultiIndex\n",
    "districts_df = pd.DataFrame({\n",
    "    \"demand\": curr_hospital_demand.reindex(idx),\n",
    "    \"equity_index\": equity_df.reindex(idx),\n",
    "    \"centroid\": centroid().reindex(idx)\n",
    "})\n",
    "districts_df.index = districts_df.index.astype(int)\n",
    "# Create GeoDataFrame properly\n",
    "districts_gdf = gpd.GeoDataFrame(districts_df, geometry=\"centroid\", crs=CRS)\n",
    "districts_gdf = districts_gdf.reset_index().rename(columns={'index': 'district_code'})\n"
   ]
  },
  {
   "cell_type": "markdown",
   "id": "46d9c817",
   "metadata": {},
   "source": [
    "#### Create 5 Centroids per District"
   ]
  },
  {
   "cell_type": "code",
   "execution_count": 5,
   "id": "6ecc1b09",
   "metadata": {},
   "outputs": [
    {
     "name": "stderr",
     "output_type": "stream",
     "text": [
      "/tmp/ipykernel_7916/1285653221.py:13: FutureWarning: Downcasting behavior in `replace` is deprecated and will be removed in a future version. To retain the old behavior, explicitly call `result.infer_objects(copy=False)`. To opt-in to the future behavior, set `pd.set_option('future.no_silent_downcasting', True)`\n",
      "  df_sample_points = df_sample_points.replace(SAARLAND_DISTRICT_MAPPING)\n",
      "/home/mws/uni/Data Science/equity-aware-geospatial-ai-project/src/index_demand_forecast/demand_forecast.py:72: SettingWithCopyWarning: \n",
      "A value is trying to be set on a copy of a slice from a DataFrame\n",
      "\n",
      "See the caveats in the documentation: https://pandas.pydata.org/pandas-docs/stable/user_guide/indexing.html#returning-a-view-versus-a-copy\n",
      "  col.iloc[0] = DISTRICT_CODE\n",
      "/home/mws/uni/Data Science/equity-aware-geospatial-ai-project/src/index_demand_forecast/demand_forecast.py:73: SettingWithCopyWarning: \n",
      "A value is trying to be set on a copy of a slice from a DataFrame\n",
      "\n",
      "See the caveats in the documentation: https://pandas.pydata.org/pandas-docs/stable/user_guide/indexing.html#returning-a-view-versus-a-copy\n",
      "  col.iloc[1:] = col.iloc[1:].map(lambda x: int(x.split('/')[0]))\n",
      "/home/mws/uni/Data Science/equity-aware-geospatial-ai-project/src/index_demand_forecast/demand_forecast.py:72: SettingWithCopyWarning: \n",
      "A value is trying to be set on a copy of a slice from a DataFrame\n",
      "\n",
      "See the caveats in the documentation: https://pandas.pydata.org/pandas-docs/stable/user_guide/indexing.html#returning-a-view-versus-a-copy\n",
      "  col.iloc[0] = DISTRICT_CODE\n",
      "/home/mws/uni/Data Science/equity-aware-geospatial-ai-project/src/index_demand_forecast/demand_forecast.py:73: SettingWithCopyWarning: \n",
      "A value is trying to be set on a copy of a slice from a DataFrame\n",
      "\n",
      "See the caveats in the documentation: https://pandas.pydata.org/pandas-docs/stable/user_guide/indexing.html#returning-a-view-versus-a-copy\n",
      "  col.iloc[1:] = col.iloc[1:].map(lambda x: int(x.split('/')[0]))\n",
      "/home/mws/uni/Data Science/equity-aware-geospatial-ai-project/src/index_travel_accessibility/travel_time_and_centroid.py:40: UserWarning: Geometry is in a geographic CRS. Results from 'centroid' are likely incorrect. Use 'GeoSeries.to_crs()' to re-project geometries to a projected CRS before this operation.\n",
      "\n",
      "  nuts_saarland[\"centroid\"] = nuts_saarland.geometry.centroid\n"
     ]
    }
   ],
   "source": [
    "# Load the Excel file\n",
    "file_path = \"./index_travel_accessibility/data/processed/saarland_districts_sample_points.xlsx\"\n",
    "df_sample_points = pd.read_excel(file_path)\n",
    "SAARLAND_DISTRICT_MAPPING = {\n",
    "    \"Saarlouis\": 10044,\n",
    "    \"St. Wendel\": 10046,\n",
    "    \"Saarpfalz-Kreis\": 10045,\n",
    "    \"Merzig-Wadern\": 10042,\n",
    "    \"Neunkirchen\": 10043,\n",
    "    \"Regionalverband Saarbrücken\": 10041 \n",
    "}\n",
    "# Display basic information about the dataframe\n",
    "df_sample_points = df_sample_points.replace(SAARLAND_DISTRICT_MAPPING)\n",
    "df_sample_points = df_sample_points.set_index('district')\n",
    "curr_hospital_demand = current_hospital_demand()\n",
    "\n",
    "#STEP1: Load and Prepare District Data (Centroids)\n",
    "curr_hospital_demand = current_hospital_demand()\n",
    "idx = curr_hospital_demand.index\n",
    "\n",
    "# Create the districts dataframe without MultiIndex\n",
    "districts_df = pd.DataFrame({\n",
    "    \"demand\": curr_hospital_demand.reindex(idx),\n",
    "    \"equity_index\": equity_df.reindex(idx),\n",
    "    \"centroid\": centroid().reindex(idx)\n",
    "})\n",
    "districts_df.index = districts_df.index.astype(int)\n",
    "districts_df = df_sample_points.join(districts_df[['demand', 'equity_index']], how='left')\n",
    "districts_df[\"centroid\"] = districts_df.apply(\n",
    "    lambda row: Point(row[\"longitude\"], row[\"latitude\"]),\n",
    "    axis=1\n",
    ")\n",
    "# Create GeoDataFrame properly\n",
    "districts_gdf = gpd.GeoDataFrame(districts_df, geometry=\"centroid\", crs=CRS)\n",
    "districts_gdf = districts_gdf.reset_index().rename(columns={'index': 'district_code'})\n"
   ]
  },
  {
   "cell_type": "markdown",
   "id": "735bb038",
   "metadata": {},
   "source": [
    "### Executing Planner"
   ]
  },
  {
   "cell_type": "code",
   "execution_count": 9,
   "id": "d4fb64d4",
   "metadata": {},
   "outputs": [],
   "source": [
    "#STEP1: Generate Candidates and Initialize Graph\n",
    "n_samples_per_centroid = 2\n",
    "radius_km = 7\n",
    "planner = Planner(districts_gdf=districts_gdf)\n",
    "planner.generate_candidates(n_samples_per_centroid=n_samples_per_centroid, radius_km=radius_km)\n",
    "planner.init_graph()\n",
    "# Save the graph file first to avoid re-downloading the graph\n",
    "#G = ox.graph_from_place(\"Saarland, Germany\", network_type='drive')\n",
    "#ox.save_graphml(G, \"saarland_graph.graphml\")\n",
    "#Planner.init_graph(graph_path=\"saarland_graph.graphml\")"
   ]
  },
  {
   "cell_type": "markdown",
   "id": "71c77615",
   "metadata": {},
   "source": [
    "#### Baseline Model\n",
    "`demand_weight` param to define the weight of current demand in the objective function \n",
    "`equity_weight` param to define the weight of the equity index in the objective function\n",
    "`travel_weight` param to define the weight of travel time in the objection function\n",
    "`time_threshold` param to define that only candidate points are assigned to a centroid if its travel time is less or equal to the value.\n"
   ]
  },
  {
   "cell_type": "code",
   "execution_count": 10,
   "id": "5c4714fe",
   "metadata": {},
   "outputs": [],
   "source": [
    "#STEP2: Initialize Baseline Model\n",
    "planner.init_baseline_model(\n",
    "    demand_weight=0.5,\n",
    "    equity_weight=0.5,\n",
    "    travel_weight=0.5,\n",
    "    time_threshold=30 #in minutes\n",
    ")\n"
   ]
  },
  {
   "cell_type": "markdown",
   "id": "aeb939c2",
   "metadata": {},
   "source": [
    "#### Add Existing Hospital Constraint\n",
    "Soft constraint that adds penalty to predicted hospitals if they are located near existing hospital \n",
    "`supply_weight` param to define the weight for the supply in the objective function\n",
    "`distance_threshold` param to define the maximum amount of distance for a candidate to be a neighboor of existing hospitals."
   ]
  },
  {
   "cell_type": "code",
   "execution_count": 17,
   "id": "4f911c25",
   "metadata": {},
   "outputs": [
    {
     "name": "stderr",
     "output_type": "stream",
     "text": [
      "/home/mws/miniconda3/envs/data_science/lib/python3.13/site-packages/pulp/pulp.py:1831: UserWarning: Overwriting previously set objective.\n",
      "  warnings.warn(\"Overwriting previously set objective.\")\n"
     ]
    }
   ],
   "source": [
    "# Get hospital data and convert to GeoDataFrame\n",
    "hospital_df = get_hospital_df()\n",
    "\n",
    "# Convert to GeoDataFrame using latitude and longitude columns\n",
    "hospital_gdf = gpd.GeoDataFrame(\n",
    "    hospital_df, \n",
    "    geometry=gpd.points_from_xy(hospital_df.Lon, hospital_df.Lat),\n",
    "    crs=CRS  # WGS84 coordinate system\n",
    ")\n",
    "planner.init_baseline_model()\n",
    "planner.add_existing_hospitals_constraints(\n",
    "    gdf=hospital_gdf,\n",
    "    supply_weight=0.5,\n",
    "    distance_threshold=10000, #in meters\n",
    "    num_neighbors=1\n",
    ")"
   ]
  },
  {
   "cell_type": "markdown",
   "id": "8496b865",
   "metadata": {},
   "source": [
    "#### Add Neighbor Constraint\n",
    "Hard Constraint such that predicted new hospitals are not located near each other within a certain distance defined by `distrance_threshold`"
   ]
  },
  {
   "cell_type": "code",
   "execution_count": 12,
   "id": "bd7cfd5a",
   "metadata": {},
   "outputs": [],
   "source": [
    "planner.init_baseline_model()\n",
    "planner.add_neighbor_constraints(\n",
    "    distance_threshold=7000 #in meters\n",
    ")   "
   ]
  },
  {
   "cell_type": "markdown",
   "id": "45309df1",
   "metadata": {},
   "source": [
    "#### Add Both Constraints"
   ]
  },
  {
   "cell_type": "code",
   "execution_count": 13,
   "id": "c6f5406a",
   "metadata": {},
   "outputs": [
    {
     "name": "stderr",
     "output_type": "stream",
     "text": [
      "/home/mws/miniconda3/envs/data_science/lib/python3.13/site-packages/pulp/pulp.py:1831: UserWarning: Overwriting previously set objective.\n",
      "  warnings.warn(\"Overwriting previously set objective.\")\n"
     ]
    }
   ],
   "source": [
    "# Get hospital data and convert to GeoDataFrame\n",
    "hospital_df = get_hospital_df()\n",
    "\n",
    "# Convert to GeoDataFrame using latitude and longitude columns\n",
    "hospital_gdf = gpd.GeoDataFrame(\n",
    "    hospital_df, \n",
    "    geometry=gpd.points_from_xy(hospital_df.Lon, hospital_df.Lat),\n",
    "    crs=CRS  # WGS84 coordinate system\n",
    ")\n",
    "planner.init_baseline_model()\n",
    "planner.add_existing_hospitals_constraints(\n",
    "    gdf=hospital_gdf,\n",
    "    supply_weight=0.5,\n",
    "    distance_threshold=7000, #in meters\n",
    "    num_neighbors=1\n",
    ")\n",
    "planner.add_neighbor_constraints(\n",
    "    distance_threshold=7000 #in meters\n",
    ")   "
   ]
  },
  {
   "cell_type": "markdown",
   "id": "55127c8a",
   "metadata": {},
   "source": [
    "#### Set the number of prediction"
   ]
  },
  {
   "cell_type": "code",
   "execution_count": 18,
   "id": "ac4f7d2d",
   "metadata": {},
   "outputs": [],
   "source": [
    "#STEP3: Set Number of Predictions\n",
    "planner.set_num_predictions(k=10)"
   ]
  },
  {
   "cell_type": "markdown",
   "id": "cba09a25",
   "metadata": {},
   "source": [
    "#### Predict and Plot"
   ]
  },
  {
   "cell_type": "code",
   "execution_count": 19,
   "id": "74d405b4",
   "metadata": {},
   "outputs": [
    {
     "name": "stdout",
     "output_type": "stream",
     "text": [
      "✅ Map saved with existing and predicted hospitals!\n"
     ]
    }
   ],
   "source": [
    "selected, assigns = planner.predict()\n",
    "selected_candidates = planner.candidates_gdf.iloc[selected]\n",
    "# Add Lat and Lon columns using assign\n",
    "# selected_candidates have Lat and Lon of the new predicted hospitals\n",
    "selected_candidates = selected_candidates.assign(\n",
    "    Lat=selected_candidates.geometry.y,\n",
    "    Lon=selected_candidates.geometry.x\n",
    ")\n",
    "map_predicted_and_existing_hospitals(\n",
    "    'results/test.html', \n",
    "    selected_candidates\n",
    ")"
   ]
  }
 ],
 "metadata": {
  "kernelspec": {
   "display_name": "data_science",
   "language": "python",
   "name": "python3"
  },
  "language_info": {
   "codemirror_mode": {
    "name": "ipython",
    "version": 3
   },
   "file_extension": ".py",
   "mimetype": "text/x-python",
   "name": "python",
   "nbconvert_exporter": "python",
   "pygments_lexer": "ipython3",
   "version": "3.13.3"
  }
 },
 "nbformat": 4,
 "nbformat_minor": 5
}
